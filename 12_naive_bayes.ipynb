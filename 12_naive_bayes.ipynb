{
 "cells": [
  {
   "cell_type": "markdown",
   "metadata": {},
   "source": [
    "## DS5559 - Project\n",
    "## Notebook 12 - Naive Bayes\n",
    "#### Name: Mengyao Zhang (mz6jv), Runhao Zhao (rz6dg)"
   ]
  },
  {
   "cell_type": "markdown",
   "metadata": {},
   "source": [
    "## Synopsis\n",
    "Use case: this notebook uses Naive Bayes for author classification"
   ]
  },
  {
   "cell_type": "markdown",
   "metadata": {},
   "source": [
    "# Import Data"
   ]
  },
  {
   "cell_type": "code",
   "execution_count": null,
   "metadata": {},
   "outputs": [],
   "source": [
    "# import pandas as pd\n",
    "import numpy as np\n",
    "import matplotlib.pyplot as plt\n",
    "import sqlite3\n",
    "db_file = 'project.db'\n",
    "OHCO = ['book_num','chap_num', 'para_num', 'sent_num', 'token_num']\n",
    "BOOKS = OHCO[:1] \n",
    "CHAPS = OHCO[:2]\n",
    "PARAS = OHCO[:3]\n",
    "SENTS = OHCO[:4]\n",
    "#BAG = PARAS \n",
    "BAG = CHAPS\n",
    "with sqlite3.connect(db_file) as db:\n",
    "    bags_meta =  pd.read_sql(\"SELECT * FROM bag\", db,index_col=\"bag_id\")\n",
    "    df = pd.read_sql(\"SELECT * FROM tfidf_small\", db, index_col=BAG)"
   ]
  },
  {
   "cell_type": "code",
   "execution_count": 19,
   "metadata": {},
   "outputs": [],
   "source": [
    "new_df = df.reset_index(level=0)"
   ]
  },
  {
   "cell_type": "code",
   "execution_count": 126,
   "metadata": {},
   "outputs": [],
   "source": [
    "new_df2 = new_df.merge(bags_meta[[\"book_num\",\"author\"]].drop_duplicates(),how=\"left\",on=\"book_num\")\n"
   ]
  },
  {
   "cell_type": "markdown",
   "metadata": {},
   "source": [
    "# Label Transformation"
   ]
  },
  {
   "cell_type": "code",
   "execution_count": 127,
   "metadata": {},
   "outputs": [],
   "source": [
    "from sklearn.preprocessing import LabelEncoder\n",
    "lb = LabelEncoder()\n",
    "y = lb.fit_transform(new_df2.author)\n"
   ]
  },
  {
   "cell_type": "code",
   "execution_count": 128,
   "metadata": {},
   "outputs": [],
   "source": [
    "new_df2.drop([\"book_num\",\"author\"],axis=1,inplace=True)"
   ]
  },
  {
   "cell_type": "markdown",
   "metadata": {},
   "source": [
    "# Train test split"
   ]
  },
  {
   "cell_type": "code",
   "execution_count": 129,
   "metadata": {},
   "outputs": [],
   "source": [
    "from sklearn.model_selection import train_test_split\n",
    "X_train,x_test,y_train,y_test = train_test_split(new_df2,y,test_size=0.3,random_state=20)"
   ]
  },
  {
   "cell_type": "code",
   "execution_count": 130,
   "metadata": {},
   "outputs": [
    {
     "data": {
      "text/html": [
       "<div>\n",
       "<style scoped>\n",
       "    .dataframe tbody tr th:only-of-type {\n",
       "        vertical-align: middle;\n",
       "    }\n",
       "\n",
       "    .dataframe tbody tr th {\n",
       "        vertical-align: top;\n",
       "    }\n",
       "\n",
       "    .dataframe thead th {\n",
       "        text-align: right;\n",
       "    }\n",
       "</style>\n",
       "<table border=\"1\" class=\"dataframe\">\n",
       "  <thead>\n",
       "    <tr style=\"text-align: right;\">\n",
       "      <th></th>\n",
       "      <th>95</th>\n",
       "      <th>150</th>\n",
       "      <th>162</th>\n",
       "      <th>296</th>\n",
       "      <th>382</th>\n",
       "      <th>415</th>\n",
       "      <th>417</th>\n",
       "      <th>420</th>\n",
       "      <th>447</th>\n",
       "      <th>461</th>\n",
       "      <th>...</th>\n",
       "      <th>44700</th>\n",
       "      <th>44804</th>\n",
       "      <th>44819</th>\n",
       "      <th>44825</th>\n",
       "      <th>44833</th>\n",
       "      <th>44857</th>\n",
       "      <th>44860</th>\n",
       "      <th>44864</th>\n",
       "      <th>44911</th>\n",
       "      <th>44929</th>\n",
       "    </tr>\n",
       "  </thead>\n",
       "  <tbody>\n",
       "    <tr>\n",
       "      <th>557</th>\n",
       "      <td>0.000000</td>\n",
       "      <td>0.000000</td>\n",
       "      <td>0.000000</td>\n",
       "      <td>0.000000</td>\n",
       "      <td>0.000000</td>\n",
       "      <td>0.020181</td>\n",
       "      <td>0.000000</td>\n",
       "      <td>0.000000</td>\n",
       "      <td>0.0</td>\n",
       "      <td>0.000000</td>\n",
       "      <td>...</td>\n",
       "      <td>0.032637</td>\n",
       "      <td>0.025941</td>\n",
       "      <td>0.031345</td>\n",
       "      <td>0.016868</td>\n",
       "      <td>0.007051</td>\n",
       "      <td>0.012071</td>\n",
       "      <td>0.033787</td>\n",
       "      <td>0.025411</td>\n",
       "      <td>0.000000</td>\n",
       "      <td>0.000000</td>\n",
       "    </tr>\n",
       "    <tr>\n",
       "      <th>1374</th>\n",
       "      <td>0.017568</td>\n",
       "      <td>0.000000</td>\n",
       "      <td>0.000000</td>\n",
       "      <td>0.019081</td>\n",
       "      <td>0.011228</td>\n",
       "      <td>0.035801</td>\n",
       "      <td>0.000000</td>\n",
       "      <td>0.000000</td>\n",
       "      <td>0.0</td>\n",
       "      <td>0.019258</td>\n",
       "      <td>...</td>\n",
       "      <td>0.000000</td>\n",
       "      <td>0.000000</td>\n",
       "      <td>0.000000</td>\n",
       "      <td>0.000000</td>\n",
       "      <td>0.016678</td>\n",
       "      <td>0.007138</td>\n",
       "      <td>0.000000</td>\n",
       "      <td>0.036063</td>\n",
       "      <td>0.012907</td>\n",
       "      <td>0.013655</td>\n",
       "    </tr>\n",
       "    <tr>\n",
       "      <th>1452</th>\n",
       "      <td>0.000000</td>\n",
       "      <td>0.040813</td>\n",
       "      <td>0.000000</td>\n",
       "      <td>0.000000</td>\n",
       "      <td>0.000000</td>\n",
       "      <td>0.000000</td>\n",
       "      <td>0.038452</td>\n",
       "      <td>0.000000</td>\n",
       "      <td>0.0</td>\n",
       "      <td>0.000000</td>\n",
       "      <td>...</td>\n",
       "      <td>0.082915</td>\n",
       "      <td>0.000000</td>\n",
       "      <td>0.000000</td>\n",
       "      <td>0.000000</td>\n",
       "      <td>0.026870</td>\n",
       "      <td>0.000000</td>\n",
       "      <td>0.000000</td>\n",
       "      <td>0.019367</td>\n",
       "      <td>0.000000</td>\n",
       "      <td>0.000000</td>\n",
       "    </tr>\n",
       "    <tr>\n",
       "      <th>379</th>\n",
       "      <td>0.045269</td>\n",
       "      <td>0.065276</td>\n",
       "      <td>0.068641</td>\n",
       "      <td>0.000000</td>\n",
       "      <td>0.057865</td>\n",
       "      <td>0.000000</td>\n",
       "      <td>0.000000</td>\n",
       "      <td>0.000000</td>\n",
       "      <td>0.0</td>\n",
       "      <td>0.000000</td>\n",
       "      <td>...</td>\n",
       "      <td>0.000000</td>\n",
       "      <td>0.000000</td>\n",
       "      <td>0.000000</td>\n",
       "      <td>0.000000</td>\n",
       "      <td>0.000000</td>\n",
       "      <td>0.000000</td>\n",
       "      <td>0.000000</td>\n",
       "      <td>0.030975</td>\n",
       "      <td>0.000000</td>\n",
       "      <td>0.000000</td>\n",
       "    </tr>\n",
       "    <tr>\n",
       "      <th>530</th>\n",
       "      <td>0.019731</td>\n",
       "      <td>0.028452</td>\n",
       "      <td>0.029919</td>\n",
       "      <td>0.021430</td>\n",
       "      <td>0.000000</td>\n",
       "      <td>0.000000</td>\n",
       "      <td>0.000000</td>\n",
       "      <td>0.029463</td>\n",
       "      <td>0.0</td>\n",
       "      <td>0.000000</td>\n",
       "      <td>...</td>\n",
       "      <td>0.000000</td>\n",
       "      <td>0.000000</td>\n",
       "      <td>0.000000</td>\n",
       "      <td>0.000000</td>\n",
       "      <td>0.056195</td>\n",
       "      <td>0.016033</td>\n",
       "      <td>0.000000</td>\n",
       "      <td>0.027002</td>\n",
       "      <td>0.057983</td>\n",
       "      <td>0.000000</td>\n",
       "    </tr>\n",
       "  </tbody>\n",
       "</table>\n",
       "<p>5 rows × 984 columns</p>\n",
       "</div>"
      ],
      "text/plain": [
       "            95       150       162       296       382       415       417  \\\n",
       "557   0.000000  0.000000  0.000000  0.000000  0.000000  0.020181  0.000000   \n",
       "1374  0.017568  0.000000  0.000000  0.019081  0.011228  0.035801  0.000000   \n",
       "1452  0.000000  0.040813  0.000000  0.000000  0.000000  0.000000  0.038452   \n",
       "379   0.045269  0.065276  0.068641  0.000000  0.057865  0.000000  0.000000   \n",
       "530   0.019731  0.028452  0.029919  0.021430  0.000000  0.000000  0.000000   \n",
       "\n",
       "           420  447       461  ...     44700     44804     44819     44825  \\\n",
       "557   0.000000  0.0  0.000000  ...  0.032637  0.025941  0.031345  0.016868   \n",
       "1374  0.000000  0.0  0.019258  ...  0.000000  0.000000  0.000000  0.000000   \n",
       "1452  0.000000  0.0  0.000000  ...  0.082915  0.000000  0.000000  0.000000   \n",
       "379   0.000000  0.0  0.000000  ...  0.000000  0.000000  0.000000  0.000000   \n",
       "530   0.029463  0.0  0.000000  ...  0.000000  0.000000  0.000000  0.000000   \n",
       "\n",
       "         44833     44857     44860     44864     44911     44929  \n",
       "557   0.007051  0.012071  0.033787  0.025411  0.000000  0.000000  \n",
       "1374  0.016678  0.007138  0.000000  0.036063  0.012907  0.013655  \n",
       "1452  0.026870  0.000000  0.000000  0.019367  0.000000  0.000000  \n",
       "379   0.000000  0.000000  0.000000  0.030975  0.000000  0.000000  \n",
       "530   0.056195  0.016033  0.000000  0.027002  0.057983  0.000000  \n",
       "\n",
       "[5 rows x 984 columns]"
      ]
     },
     "execution_count": 130,
     "metadata": {},
     "output_type": "execute_result"
    }
   ],
   "source": [
    "x_test.head()"
   ]
  },
  {
   "cell_type": "markdown",
   "metadata": {},
   "source": [
    "# Naive bayes "
   ]
  },
  {
   "cell_type": "code",
   "execution_count": 131,
   "metadata": {},
   "outputs": [],
   "source": [
    "from sklearn.naive_bayes import MultinomialNB\n",
    "nb = MultinomialNB()\n",
    "nb.fit(X_train,y_train)\n",
    "pred = nb.predict(x_test)"
   ]
  },
  {
   "cell_type": "markdown",
   "metadata": {},
   "source": [
    "# Confusion Matrix"
   ]
  },
  {
   "cell_type": "code",
   "execution_count": 132,
   "metadata": {},
   "outputs": [
    {
     "data": {
      "text/plain": [
       "array([[  0,   9,   6,   0,   0,   0,   0,   1,   1],\n",
       "       [  0, 107,   0,   0,   0,   0,   0,   0,   0],\n",
       "       [  0,   2,  78,   0,   0,   0,   0,   0,   0],\n",
       "       [  0,   4,   5,  34,   0,   0,   0,   3,   0],\n",
       "       [  0,  10,  10,   0,  12,   0,   0,   5,   0],\n",
       "       [  0,   0,   8,   0,   0,   0,   0,   1,   0],\n",
       "       [  0,   1,   1,   0,   0,   0,  20,   0,   9],\n",
       "       [  0,  10,   3,   1,   0,   0,   0,  41,   0],\n",
       "       [  0,   1,   0,   0,   0,   0,   0,   0,  95]])"
      ]
     },
     "execution_count": 132,
     "metadata": {},
     "output_type": "execute_result"
    }
   ],
   "source": [
    "from sklearn.metrics import confusion_matrix\n",
    "confusion_matrix(y_test, pred,labels=list(set(y_test)))\n"
   ]
  },
  {
   "cell_type": "code",
   "execution_count": 133,
   "metadata": {},
   "outputs": [],
   "source": [
    "def plot_confusion_matrix(cm, classes,\n",
    "                          normalize=False,\n",
    "                          title='Confusion matrix',\n",
    "                          cmap=plt.cm.Blues):\n",
    "    \"\"\"\n",
    "    This function prints and plots the confusion matrix.\n",
    "    Normalization can be applied by setting `normalize=True`.\n",
    "    \"\"\"\n",
    "    if normalize:\n",
    "        cm = cm.astype('float') / cm.sum(axis=1)[:, np.newaxis]\n",
    "        print(\"Normalized confusion matrix\")\n",
    "    else:\n",
    "        print('Confusion matrix, without normalization')\n",
    "\n",
    "    print(cm)\n",
    "\n",
    "    plt.imshow(cm, interpolation='nearest', cmap=cmap)\n",
    "    plt.title(title)\n",
    "    plt.colorbar()\n",
    "    tick_marks = np.arange(len(classes))\n",
    "    plt.xticks(tick_marks, classes, rotation=45)\n",
    "    plt.yticks(tick_marks, classes)\n",
    "\n",
    "    fmt = '.2f' if normalize else 'd'\n",
    "    thresh = cm.max() / 2.\n",
    "    for i, j in itertools.product(range(cm.shape[0]), range(cm.shape[1])):\n",
    "        plt.text(j, i, format(cm[i, j], fmt),\n",
    "                 horizontalalignment=\"center\",\n",
    "                 color=\"white\" if cm[i, j] > thresh else \"black\")\n",
    "\n",
    "    plt.ylabel('True label')\n",
    "    plt.xlabel('Predicted label')\n",
    "    plt.tight_layout()"
   ]
  },
  {
   "cell_type": "code",
   "execution_count": 134,
   "metadata": {},
   "outputs": [
    {
     "name": "stdout",
     "output_type": "stream",
     "text": [
      "Confusion matrix, without normalization\n",
      "[[  0   9   6   0   0   0   0   1   1]\n",
      " [  0 107   0   0   0   0   0   0   0]\n",
      " [  0   2  78   0   0   0   0   0   0]\n",
      " [  0   4   5  34   0   0   0   3   0]\n",
      " [  0  10  10   0  12   0   0   5   0]\n",
      " [  0   0   8   0   0   0   0   1   0]\n",
      " [  0   1   1   0   0   0  20   0   9]\n",
      " [  0  10   3   1   0   0   0  41   0]\n",
      " [  0   1   0   0   0   0   0   0  95]]\n"
     ]
    },
    {
     "data": {
      "image/png": "[encoded data removed]",
      "text/plain": [
       "<Figure size 432x288 with 2 Axes>"
      ]
     },
     "metadata": {},
     "output_type": "display_data"
    }
   ],
   "source": [
    "cnf_matrix = confusion_matrix(y_test, pred,labels=list(set(y_test)))\n",
    "np.set_printoptions(precision=2)\n",
    "import itertools\n",
    "# Plot non-normalized confusion matrix\n",
    "plt.figure()\n",
    "plot_confusion_matrix(cnf_matrix, classes=list(set(y_test)),\n",
    "                      title='Confusion matrix, without normalization')"
   ]
  }
 ],
 "metadata": {
  "kernelspec": {
   "display_name": "Python 3",
   "language": "python",
   "name": "python3"
  },
  "language_info": {
   "codemirror_mode": {
    "name": "ipython",
    "version": 3
   },
   "file_extension": ".py",
   "mimetype": "text/x-python",
   "name": "python",
   "nbconvert_exporter": "python",
   "pygments_lexer": "ipython3",
   "version": "3.6.5"
  }
 },
 "nbformat": 4,
 "nbformat_minor": 2
}
