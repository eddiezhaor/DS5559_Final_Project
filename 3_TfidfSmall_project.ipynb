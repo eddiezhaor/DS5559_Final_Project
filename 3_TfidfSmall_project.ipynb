{
 "cells": [
  {
   "cell_type": "markdown",
   "metadata": {},
   "source": [
    "## DS5559 - Project\n",
    "## Notebook 3 - Make a smaller TFIDF\n",
    "#### Name: Mengyao Zhang (mz6jv), Runhao Zhao (rz6dg)"
   ]
  },
  {
   "cell_type": "markdown",
   "metadata": {},
   "source": [
    "## Synopsis\n",
    "Use case: this notebook creates tfidf_small for further analysis such as PCA and HCA."
   ]
  },
  {
   "cell_type": "markdown",
   "metadata": {},
   "source": [
    "## Libraries"
   ]
  },
  {
   "cell_type": "code",
   "execution_count": 1,
   "metadata": {},
   "outputs": [],
   "source": [
    "import pandas as pd\n",
    "import sqlite3\n",
    "import os\n",
    "import textman as tx\n",
    "from sklearn.feature_extraction.text import TfidfVectorizer"
   ]
  },
  {
   "cell_type": "markdown",
   "metadata": {},
   "source": [
    "## Configs"
   ]
  },
  {
   "cell_type": "code",
   "execution_count": 2,
   "metadata": {},
   "outputs": [],
   "source": [
    "corpus_db = 'project.db'\n",
    "max_words = 1000  # max number of words queried\n",
    "\n",
    "num_topics = 20\n",
    "num_iters = 1000\n",
    "show_interval = 100"
   ]
  },
  {
   "cell_type": "code",
   "execution_count": 3,
   "metadata": {},
   "outputs": [],
   "source": [
    "OHCO = ['book_num','chap_num', 'para_num', 'sent_num', 'token_num']\n",
    "BOOKS = OHCO[:1] \n",
    "CHAPS = OHCO[:2]\n",
    "PARAS = OHCO[:3]\n",
    "SENTS = OHCO[:4]\n",
    "#BAG = PARAS \n",
    "BAG = CHAPS"
   ]
  },
  {
   "cell_type": "markdown",
   "metadata": {},
   "source": [
    "## Get tokens we want \n",
    "filter out stop words and proper nouns, and only get the top words based on count n"
   ]
  },
  {
   "cell_type": "code",
   "execution_count": 4,
   "metadata": {},
   "outputs": [],
   "source": [
    "# use SQL to get the tokens we want\n",
    "sql = \"\"\"\n",
    "SELECT * FROM token \n",
    "WHERE term_id IN (\n",
    "    SELECT term_id FROM vocab \n",
    "    WHERE stop = 0\n",
    "    ORDER BY n DESC LIMIT {}\n",
    ") \n",
    "AND (pos NOT LIKE 'NNP%')\n",
    "\"\"\".format(max_words)"
   ]
  },
  {
   "cell_type": "code",
   "execution_count": 5,
   "metadata": {},
   "outputs": [],
   "source": [
    "with sqlite3.connect(corpus_db) as db:\n",
    "    tokens = pd.read_sql(sql, db,index_col=BAG)"
   ]
  },
  {
   "cell_type": "code",
   "execution_count": 6,
   "metadata": {},
   "outputs": [
    {
     "data": {
      "text/html": [
       "<div>\n",
       "<style scoped>\n",
       "    .dataframe tbody tr th:only-of-type {\n",
       "        vertical-align: middle;\n",
       "    }\n",
       "\n",
       "    .dataframe tbody tr th {\n",
       "        vertical-align: top;\n",
       "    }\n",
       "\n",
       "    .dataframe thead th {\n",
       "        text-align: right;\n",
       "    }\n",
       "</style>\n",
       "<table border=\"1\" class=\"dataframe\">\n",
       "  <thead>\n",
       "    <tr style=\"text-align: right;\">\n",
       "      <th></th>\n",
       "      <th></th>\n",
       "      <th>para_num</th>\n",
       "      <th>sent_num</th>\n",
       "      <th>token_num</th>\n",
       "      <th>pos</th>\n",
       "      <th>token_str</th>\n",
       "      <th>punc</th>\n",
       "      <th>num</th>\n",
       "      <th>term_str</th>\n",
       "      <th>term_id</th>\n",
       "    </tr>\n",
       "    <tr>\n",
       "      <th>book_num</th>\n",
       "      <th>chap_num</th>\n",
       "      <th></th>\n",
       "      <th></th>\n",
       "      <th></th>\n",
       "      <th></th>\n",
       "      <th></th>\n",
       "      <th></th>\n",
       "      <th></th>\n",
       "      <th></th>\n",
       "      <th></th>\n",
       "    </tr>\n",
       "  </thead>\n",
       "  <tbody>\n",
       "    <tr>\n",
       "      <th rowspan=\"5\" valign=\"top\">1</th>\n",
       "      <th>0</th>\n",
       "      <td>1</td>\n",
       "      <td>0</td>\n",
       "      <td>0</td>\n",
       "      <td>NN</td>\n",
       "      <td>Chapter</td>\n",
       "      <td>0</td>\n",
       "      <td>0</td>\n",
       "      <td>chapter</td>\n",
       "      <td>6192</td>\n",
       "    </tr>\n",
       "    <tr>\n",
       "      <th>0</th>\n",
       "      <td>2</td>\n",
       "      <td>0</td>\n",
       "      <td>5</td>\n",
       "      <td>VBG</td>\n",
       "      <td>taking</td>\n",
       "      <td>0</td>\n",
       "      <td>0</td>\n",
       "      <td>taking</td>\n",
       "      <td>38869</td>\n",
       "    </tr>\n",
       "    <tr>\n",
       "      <th>0</th>\n",
       "      <td>2</td>\n",
       "      <td>0</td>\n",
       "      <td>7</td>\n",
       "      <td>NN</td>\n",
       "      <td>walk</td>\n",
       "      <td>0</td>\n",
       "      <td>0</td>\n",
       "      <td>walk</td>\n",
       "      <td>43412</td>\n",
       "    </tr>\n",
       "    <tr>\n",
       "      <th>0</th>\n",
       "      <td>2</td>\n",
       "      <td>0</td>\n",
       "      <td>9</td>\n",
       "      <td>NN</td>\n",
       "      <td>day</td>\n",
       "      <td>0</td>\n",
       "      <td>0</td>\n",
       "      <td>day</td>\n",
       "      <td>9790</td>\n",
       "    </tr>\n",
       "    <tr>\n",
       "      <th>0</th>\n",
       "      <td>2</td>\n",
       "      <td>1</td>\n",
       "      <td>5</td>\n",
       "      <td>RB</td>\n",
       "      <td>indeed</td>\n",
       "      <td>0</td>\n",
       "      <td>0</td>\n",
       "      <td>indeed</td>\n",
       "      <td>20395</td>\n",
       "    </tr>\n",
       "  </tbody>\n",
       "</table>\n",
       "</div>"
      ],
      "text/plain": [
       "                   para_num  sent_num  token_num  pos token_str  punc  num  \\\n",
       "book_num chap_num                                                            \n",
       "1        0                1         0          0   NN   Chapter     0    0   \n",
       "         0                2         0          5  VBG    taking     0    0   \n",
       "         0                2         0          7   NN      walk     0    0   \n",
       "         0                2         0          9   NN       day     0    0   \n",
       "         0                2         1          5   RB    indeed     0    0   \n",
       "\n",
       "                  term_str  term_id  \n",
       "book_num chap_num                    \n",
       "1        0         chapter     6192  \n",
       "         0          taking    38869  \n",
       "         0            walk    43412  \n",
       "         0             day     9790  \n",
       "         0          indeed    20395  "
      ]
     },
     "execution_count": 6,
     "metadata": {},
     "output_type": "execute_result"
    }
   ],
   "source": [
    "tokens.head()"
   ]
  },
  {
   "cell_type": "code",
   "execution_count": 7,
   "metadata": {},
   "outputs": [
    {
     "data": {
      "text/plain": [
       "1593"
      ]
     },
     "execution_count": 7,
     "metadata": {},
     "output_type": "execute_result"
    }
   ],
   "source": [
    "len(tokens.reset_index().groupby(BAG)) \n",
    "# fewer chaps than the expected 1622 since many terms are filtered out"
   ]
  },
  {
   "cell_type": "code",
   "execution_count": 8,
   "metadata": {},
   "outputs": [
    {
     "data": {
      "text/plain": [
       "985"
      ]
     },
     "execution_count": 8,
     "metadata": {},
     "output_type": "execute_result"
    }
   ],
   "source": [
    "# check the number of unique terms\n",
    "len(tokens.term_id.unique())"
   ]
  },
  {
   "cell_type": "code",
   "execution_count": 9,
   "metadata": {},
   "outputs": [],
   "source": [
    "# gather tokens for each chapter\n",
    "# the following is for BAG=CHAPS\n",
    "corpus = tx.gather_tokens(tokens, level=2, col='term_str')\\\n",
    "    .reset_index()#.rename(columns={'term_str':'doc_content'})\n",
    "#corpus['doc_label'] = corpus.apply(lambda x: \"book-{}_chap-{}\".format(x.book_num,x.chap_num), 1)"
   ]
  },
  {
   "cell_type": "code",
   "execution_count": 10,
   "metadata": {},
   "outputs": [
    {
     "data": {
      "text/html": [
       "<div>\n",
       "<style scoped>\n",
       "    .dataframe tbody tr th:only-of-type {\n",
       "        vertical-align: middle;\n",
       "    }\n",
       "\n",
       "    .dataframe tbody tr th {\n",
       "        vertical-align: top;\n",
       "    }\n",
       "\n",
       "    .dataframe thead th {\n",
       "        text-align: right;\n",
       "    }\n",
       "</style>\n",
       "<table border=\"1\" class=\"dataframe\">\n",
       "  <thead>\n",
       "    <tr style=\"text-align: right;\">\n",
       "      <th></th>\n",
       "      <th>book_num</th>\n",
       "      <th>chap_num</th>\n",
       "      <th>term_str</th>\n",
       "    </tr>\n",
       "  </thead>\n",
       "  <tbody>\n",
       "    <tr>\n",
       "      <th>0</th>\n",
       "      <td>1</td>\n",
       "      <td>0</td>\n",
       "      <td>chapter taking walk day indeed hour morning si...</td>\n",
       "    </tr>\n",
       "    <tr>\n",
       "      <th>1</th>\n",
       "      <td>1</td>\n",
       "      <td>1</td>\n",
       "      <td>chapter way new thing bad opinion fact rather ...</td>\n",
       "    </tr>\n",
       "    <tr>\n",
       "      <th>2</th>\n",
       "      <td>1</td>\n",
       "      <td>2</td>\n",
       "      <td>chapter next thing remember feeling seeing red...</td>\n",
       "    </tr>\n",
       "    <tr>\n",
       "      <th>3</th>\n",
       "      <td>1</td>\n",
       "      <td>3</td>\n",
       "      <td>chapter enough hope get well change seemed nea...</td>\n",
       "    </tr>\n",
       "    <tr>\n",
       "      <th>4</th>\n",
       "      <td>1</td>\n",
       "      <td>4</td>\n",
       "      <td>chapter five clock hardly struck morning broug...</td>\n",
       "    </tr>\n",
       "  </tbody>\n",
       "</table>\n",
       "</div>"
      ],
      "text/plain": [
       "   book_num  chap_num                                           term_str\n",
       "0         1         0  chapter taking walk day indeed hour morning si...\n",
       "1         1         1  chapter way new thing bad opinion fact rather ...\n",
       "2         1         2  chapter next thing remember feeling seeing red...\n",
       "3         1         3  chapter enough hope get well change seemed nea...\n",
       "4         1         4  chapter five clock hardly struck morning broug..."
      ]
     },
     "execution_count": 10,
     "metadata": {},
     "output_type": "execute_result"
    }
   ],
   "source": [
    "corpus.head()"
   ]
  },
  {
   "cell_type": "code",
   "execution_count": 11,
   "metadata": {},
   "outputs": [
    {
     "data": {
      "text/plain": [
       "(1593, 3)"
      ]
     },
     "execution_count": 11,
     "metadata": {},
     "output_type": "execute_result"
    }
   ],
   "source": [
    "corpus.shape"
   ]
  },
  {
   "cell_type": "markdown",
   "metadata": {},
   "source": [
    "## Calculate tfidf on corpus"
   ]
  },
  {
   "cell_type": "code",
   "execution_count": 12,
   "metadata": {},
   "outputs": [],
   "source": [
    "# initiate vectorizer\n",
    "vectorizer = TfidfVectorizer()\n",
    "# fit and transform corpus\n",
    "result = vectorizer.fit_transform(corpus.term_str)"
   ]
  },
  {
   "cell_type": "code",
   "execution_count": 13,
   "metadata": {},
   "outputs": [
    {
     "data": {
      "text/plain": [
       "<1593x984 sparse matrix of type '<class 'numpy.float64'>'\n",
       "\twith 608440 stored elements in Compressed Sparse Row format>"
      ]
     },
     "execution_count": 13,
     "metadata": {},
     "output_type": "execute_result"
    }
   ],
   "source": [
    "result"
   ]
  },
  {
   "cell_type": "code",
   "execution_count": 14,
   "metadata": {},
   "outputs": [],
   "source": [
    "# change resulted sparse matrix to a df\n",
    "result = pd.DataFrame(result.toarray())"
   ]
  },
  {
   "cell_type": "code",
   "execution_count": 15,
   "metadata": {},
   "outputs": [
    {
     "data": {
      "text/plain": [
       "(1593, 984)"
      ]
     },
     "execution_count": 15,
     "metadata": {},
     "output_type": "execute_result"
    }
   ],
   "source": [
    "result.shape "
   ]
  },
  {
   "cell_type": "code",
   "execution_count": 16,
   "metadata": {},
   "outputs": [
    {
     "data": {
      "text/html": [
       "<div>\n",
       "<style scoped>\n",
       "    .dataframe tbody tr th:only-of-type {\n",
       "        vertical-align: middle;\n",
       "    }\n",
       "\n",
       "    .dataframe tbody tr th {\n",
       "        vertical-align: top;\n",
       "    }\n",
       "\n",
       "    .dataframe thead th {\n",
       "        text-align: right;\n",
       "    }\n",
       "</style>\n",
       "<table border=\"1\" class=\"dataframe\">\n",
       "  <thead>\n",
       "    <tr style=\"text-align: right;\">\n",
       "      <th></th>\n",
       "      <th>0</th>\n",
       "      <th>1</th>\n",
       "      <th>2</th>\n",
       "      <th>3</th>\n",
       "      <th>4</th>\n",
       "      <th>5</th>\n",
       "      <th>6</th>\n",
       "      <th>7</th>\n",
       "      <th>8</th>\n",
       "      <th>9</th>\n",
       "      <th>...</th>\n",
       "      <th>974</th>\n",
       "      <th>975</th>\n",
       "      <th>976</th>\n",
       "      <th>977</th>\n",
       "      <th>978</th>\n",
       "      <th>979</th>\n",
       "      <th>980</th>\n",
       "      <th>981</th>\n",
       "      <th>982</th>\n",
       "      <th>983</th>\n",
       "    </tr>\n",
       "  </thead>\n",
       "  <tbody>\n",
       "    <tr>\n",
       "      <th>0</th>\n",
       "      <td>0.000000</td>\n",
       "      <td>0.0</td>\n",
       "      <td>0.0</td>\n",
       "      <td>0.037412</td>\n",
       "      <td>0.0</td>\n",
       "      <td>0.000000</td>\n",
       "      <td>0.046796</td>\n",
       "      <td>0.000000</td>\n",
       "      <td>0.0</td>\n",
       "      <td>0.000000</td>\n",
       "      <td>...</td>\n",
       "      <td>0.000000</td>\n",
       "      <td>0.0</td>\n",
       "      <td>0.0</td>\n",
       "      <td>0.000000</td>\n",
       "      <td>0.098101</td>\n",
       "      <td>0.000000</td>\n",
       "      <td>0.000000</td>\n",
       "      <td>0.047139</td>\n",
       "      <td>0.025306</td>\n",
       "      <td>0.0</td>\n",
       "    </tr>\n",
       "    <tr>\n",
       "      <th>1</th>\n",
       "      <td>0.000000</td>\n",
       "      <td>0.0</td>\n",
       "      <td>0.0</td>\n",
       "      <td>0.027259</td>\n",
       "      <td>0.0</td>\n",
       "      <td>0.034097</td>\n",
       "      <td>0.000000</td>\n",
       "      <td>0.000000</td>\n",
       "      <td>0.0</td>\n",
       "      <td>0.027512</td>\n",
       "      <td>...</td>\n",
       "      <td>0.000000</td>\n",
       "      <td>0.0</td>\n",
       "      <td>0.0</td>\n",
       "      <td>0.000000</td>\n",
       "      <td>0.047653</td>\n",
       "      <td>0.020395</td>\n",
       "      <td>0.000000</td>\n",
       "      <td>0.051520</td>\n",
       "      <td>0.036877</td>\n",
       "      <td>0.0</td>\n",
       "    </tr>\n",
       "    <tr>\n",
       "      <th>2</th>\n",
       "      <td>0.019922</td>\n",
       "      <td>0.0</td>\n",
       "      <td>0.0</td>\n",
       "      <td>0.000000</td>\n",
       "      <td>0.0</td>\n",
       "      <td>0.000000</td>\n",
       "      <td>0.000000</td>\n",
       "      <td>0.000000</td>\n",
       "      <td>0.0</td>\n",
       "      <td>0.043675</td>\n",
       "      <td>...</td>\n",
       "      <td>0.000000</td>\n",
       "      <td>0.0</td>\n",
       "      <td>0.0</td>\n",
       "      <td>0.022621</td>\n",
       "      <td>0.018912</td>\n",
       "      <td>0.064753</td>\n",
       "      <td>0.030207</td>\n",
       "      <td>0.054525</td>\n",
       "      <td>0.043907</td>\n",
       "      <td>0.0</td>\n",
       "    </tr>\n",
       "    <tr>\n",
       "      <th>3</th>\n",
       "      <td>0.000000</td>\n",
       "      <td>0.0</td>\n",
       "      <td>0.0</td>\n",
       "      <td>0.014575</td>\n",
       "      <td>0.0</td>\n",
       "      <td>0.036462</td>\n",
       "      <td>0.000000</td>\n",
       "      <td>0.020038</td>\n",
       "      <td>0.0</td>\n",
       "      <td>0.000000</td>\n",
       "      <td>...</td>\n",
       "      <td>0.019656</td>\n",
       "      <td>0.0</td>\n",
       "      <td>0.0</td>\n",
       "      <td>0.000000</td>\n",
       "      <td>0.025479</td>\n",
       "      <td>0.010905</td>\n",
       "      <td>0.000000</td>\n",
       "      <td>0.009182</td>\n",
       "      <td>0.039435</td>\n",
       "      <td>0.0</td>\n",
       "    </tr>\n",
       "    <tr>\n",
       "      <th>4</th>\n",
       "      <td>0.000000</td>\n",
       "      <td>0.0</td>\n",
       "      <td>0.0</td>\n",
       "      <td>0.000000</td>\n",
       "      <td>0.0</td>\n",
       "      <td>0.000000</td>\n",
       "      <td>0.000000</td>\n",
       "      <td>0.039071</td>\n",
       "      <td>0.0</td>\n",
       "      <td>0.028683</td>\n",
       "      <td>...</td>\n",
       "      <td>0.000000</td>\n",
       "      <td>0.0</td>\n",
       "      <td>0.0</td>\n",
       "      <td>0.000000</td>\n",
       "      <td>0.024841</td>\n",
       "      <td>0.042525</td>\n",
       "      <td>0.000000</td>\n",
       "      <td>0.035808</td>\n",
       "      <td>0.019223</td>\n",
       "      <td>0.0</td>\n",
       "    </tr>\n",
       "  </tbody>\n",
       "</table>\n",
       "<p>5 rows × 984 columns</p>\n",
       "</div>"
      ],
      "text/plain": [
       "        0    1    2         3    4         5         6         7    8    \\\n",
       "0  0.000000  0.0  0.0  0.037412  0.0  0.000000  0.046796  0.000000  0.0   \n",
       "1  0.000000  0.0  0.0  0.027259  0.0  0.034097  0.000000  0.000000  0.0   \n",
       "2  0.019922  0.0  0.0  0.000000  0.0  0.000000  0.000000  0.000000  0.0   \n",
       "3  0.000000  0.0  0.0  0.014575  0.0  0.036462  0.000000  0.020038  0.0   \n",
       "4  0.000000  0.0  0.0  0.000000  0.0  0.000000  0.000000  0.039071  0.0   \n",
       "\n",
       "        9   ...        974  975  976       977       978       979       980  \\\n",
       "0  0.000000 ...   0.000000  0.0  0.0  0.000000  0.098101  0.000000  0.000000   \n",
       "1  0.027512 ...   0.000000  0.0  0.0  0.000000  0.047653  0.020395  0.000000   \n",
       "2  0.043675 ...   0.000000  0.0  0.0  0.022621  0.018912  0.064753  0.030207   \n",
       "3  0.000000 ...   0.019656  0.0  0.0  0.000000  0.025479  0.010905  0.000000   \n",
       "4  0.028683 ...   0.000000  0.0  0.0  0.000000  0.024841  0.042525  0.000000   \n",
       "\n",
       "        981       982  983  \n",
       "0  0.047139  0.025306  0.0  \n",
       "1  0.051520  0.036877  0.0  \n",
       "2  0.054525  0.043907  0.0  \n",
       "3  0.009182  0.039435  0.0  \n",
       "4  0.035808  0.019223  0.0  \n",
       "\n",
       "[5 rows x 984 columns]"
      ]
     },
     "execution_count": 16,
     "metadata": {},
     "output_type": "execute_result"
    }
   ],
   "source": [
    "result.head()"
   ]
  },
  {
   "cell_type": "code",
   "execution_count": 17,
   "metadata": {},
   "outputs": [
    {
     "data": {
      "text/plain": [
       "(1593, 2)"
      ]
     },
     "execution_count": 17,
     "metadata": {},
     "output_type": "execute_result"
    }
   ],
   "source": [
    "corpus[BAG].shape"
   ]
  },
  {
   "cell_type": "code",
   "execution_count": 18,
   "metadata": {},
   "outputs": [],
   "source": [
    "# add index (OHCO) back to result\n",
    "index_col = corpus[BAG]\n",
    "tfidf_small =  pd.concat([index_col, result], axis=1)"
   ]
  },
  {
   "cell_type": "code",
   "execution_count": 19,
   "metadata": {},
   "outputs": [],
   "source": [
    "tfidf_small=tfidf_small.set_index(BAG)"
   ]
  },
  {
   "cell_type": "code",
   "execution_count": 20,
   "metadata": {},
   "outputs": [
    {
     "data": {
      "text/html": [
       "<div>\n",
       "<style scoped>\n",
       "    .dataframe tbody tr th:only-of-type {\n",
       "        vertical-align: middle;\n",
       "    }\n",
       "\n",
       "    .dataframe tbody tr th {\n",
       "        vertical-align: top;\n",
       "    }\n",
       "\n",
       "    .dataframe thead th {\n",
       "        text-align: right;\n",
       "    }\n",
       "</style>\n",
       "<table border=\"1\" class=\"dataframe\">\n",
       "  <thead>\n",
       "    <tr style=\"text-align: right;\">\n",
       "      <th></th>\n",
       "      <th></th>\n",
       "      <th>0</th>\n",
       "      <th>1</th>\n",
       "      <th>2</th>\n",
       "      <th>3</th>\n",
       "      <th>4</th>\n",
       "      <th>5</th>\n",
       "      <th>6</th>\n",
       "      <th>7</th>\n",
       "      <th>8</th>\n",
       "      <th>9</th>\n",
       "      <th>...</th>\n",
       "      <th>974</th>\n",
       "      <th>975</th>\n",
       "      <th>976</th>\n",
       "      <th>977</th>\n",
       "      <th>978</th>\n",
       "      <th>979</th>\n",
       "      <th>980</th>\n",
       "      <th>981</th>\n",
       "      <th>982</th>\n",
       "      <th>983</th>\n",
       "    </tr>\n",
       "    <tr>\n",
       "      <th>book_num</th>\n",
       "      <th>chap_num</th>\n",
       "      <th></th>\n",
       "      <th></th>\n",
       "      <th></th>\n",
       "      <th></th>\n",
       "      <th></th>\n",
       "      <th></th>\n",
       "      <th></th>\n",
       "      <th></th>\n",
       "      <th></th>\n",
       "      <th></th>\n",
       "      <th></th>\n",
       "      <th></th>\n",
       "      <th></th>\n",
       "      <th></th>\n",
       "      <th></th>\n",
       "      <th></th>\n",
       "      <th></th>\n",
       "      <th></th>\n",
       "      <th></th>\n",
       "      <th></th>\n",
       "      <th></th>\n",
       "    </tr>\n",
       "  </thead>\n",
       "  <tbody>\n",
       "    <tr>\n",
       "      <th rowspan=\"5\" valign=\"top\">1</th>\n",
       "      <th>0</th>\n",
       "      <td>0.000000</td>\n",
       "      <td>0.0</td>\n",
       "      <td>0.0</td>\n",
       "      <td>0.037412</td>\n",
       "      <td>0.0</td>\n",
       "      <td>0.000000</td>\n",
       "      <td>0.046796</td>\n",
       "      <td>0.000000</td>\n",
       "      <td>0.0</td>\n",
       "      <td>0.000000</td>\n",
       "      <td>...</td>\n",
       "      <td>0.000000</td>\n",
       "      <td>0.0</td>\n",
       "      <td>0.0</td>\n",
       "      <td>0.000000</td>\n",
       "      <td>0.098101</td>\n",
       "      <td>0.000000</td>\n",
       "      <td>0.000000</td>\n",
       "      <td>0.047139</td>\n",
       "      <td>0.025306</td>\n",
       "      <td>0.0</td>\n",
       "    </tr>\n",
       "    <tr>\n",
       "      <th>1</th>\n",
       "      <td>0.000000</td>\n",
       "      <td>0.0</td>\n",
       "      <td>0.0</td>\n",
       "      <td>0.027259</td>\n",
       "      <td>0.0</td>\n",
       "      <td>0.034097</td>\n",
       "      <td>0.000000</td>\n",
       "      <td>0.000000</td>\n",
       "      <td>0.0</td>\n",
       "      <td>0.027512</td>\n",
       "      <td>...</td>\n",
       "      <td>0.000000</td>\n",
       "      <td>0.0</td>\n",
       "      <td>0.0</td>\n",
       "      <td>0.000000</td>\n",
       "      <td>0.047653</td>\n",
       "      <td>0.020395</td>\n",
       "      <td>0.000000</td>\n",
       "      <td>0.051520</td>\n",
       "      <td>0.036877</td>\n",
       "      <td>0.0</td>\n",
       "    </tr>\n",
       "    <tr>\n",
       "      <th>2</th>\n",
       "      <td>0.019922</td>\n",
       "      <td>0.0</td>\n",
       "      <td>0.0</td>\n",
       "      <td>0.000000</td>\n",
       "      <td>0.0</td>\n",
       "      <td>0.000000</td>\n",
       "      <td>0.000000</td>\n",
       "      <td>0.000000</td>\n",
       "      <td>0.0</td>\n",
       "      <td>0.043675</td>\n",
       "      <td>...</td>\n",
       "      <td>0.000000</td>\n",
       "      <td>0.0</td>\n",
       "      <td>0.0</td>\n",
       "      <td>0.022621</td>\n",
       "      <td>0.018912</td>\n",
       "      <td>0.064753</td>\n",
       "      <td>0.030207</td>\n",
       "      <td>0.054525</td>\n",
       "      <td>0.043907</td>\n",
       "      <td>0.0</td>\n",
       "    </tr>\n",
       "    <tr>\n",
       "      <th>3</th>\n",
       "      <td>0.000000</td>\n",
       "      <td>0.0</td>\n",
       "      <td>0.0</td>\n",
       "      <td>0.014575</td>\n",
       "      <td>0.0</td>\n",
       "      <td>0.036462</td>\n",
       "      <td>0.000000</td>\n",
       "      <td>0.020038</td>\n",
       "      <td>0.0</td>\n",
       "      <td>0.000000</td>\n",
       "      <td>...</td>\n",
       "      <td>0.019656</td>\n",
       "      <td>0.0</td>\n",
       "      <td>0.0</td>\n",
       "      <td>0.000000</td>\n",
       "      <td>0.025479</td>\n",
       "      <td>0.010905</td>\n",
       "      <td>0.000000</td>\n",
       "      <td>0.009182</td>\n",
       "      <td>0.039435</td>\n",
       "      <td>0.0</td>\n",
       "    </tr>\n",
       "    <tr>\n",
       "      <th>4</th>\n",
       "      <td>0.000000</td>\n",
       "      <td>0.0</td>\n",
       "      <td>0.0</td>\n",
       "      <td>0.000000</td>\n",
       "      <td>0.0</td>\n",
       "      <td>0.000000</td>\n",
       "      <td>0.000000</td>\n",
       "      <td>0.039071</td>\n",
       "      <td>0.0</td>\n",
       "      <td>0.028683</td>\n",
       "      <td>...</td>\n",
       "      <td>0.000000</td>\n",
       "      <td>0.0</td>\n",
       "      <td>0.0</td>\n",
       "      <td>0.000000</td>\n",
       "      <td>0.024841</td>\n",
       "      <td>0.042525</td>\n",
       "      <td>0.000000</td>\n",
       "      <td>0.035808</td>\n",
       "      <td>0.019223</td>\n",
       "      <td>0.0</td>\n",
       "    </tr>\n",
       "  </tbody>\n",
       "</table>\n",
       "<p>5 rows × 984 columns</p>\n",
       "</div>"
      ],
      "text/plain": [
       "                        0    1    2         3    4         5         6    \\\n",
       "book_num chap_num                                                          \n",
       "1        0         0.000000  0.0  0.0  0.037412  0.0  0.000000  0.046796   \n",
       "         1         0.000000  0.0  0.0  0.027259  0.0  0.034097  0.000000   \n",
       "         2         0.019922  0.0  0.0  0.000000  0.0  0.000000  0.000000   \n",
       "         3         0.000000  0.0  0.0  0.014575  0.0  0.036462  0.000000   \n",
       "         4         0.000000  0.0  0.0  0.000000  0.0  0.000000  0.000000   \n",
       "\n",
       "                        7    8         9   ...        974  975  976       977  \\\n",
       "book_num chap_num                          ...                                  \n",
       "1        0         0.000000  0.0  0.000000 ...   0.000000  0.0  0.0  0.000000   \n",
       "         1         0.000000  0.0  0.027512 ...   0.000000  0.0  0.0  0.000000   \n",
       "         2         0.000000  0.0  0.043675 ...   0.000000  0.0  0.0  0.022621   \n",
       "         3         0.020038  0.0  0.000000 ...   0.019656  0.0  0.0  0.000000   \n",
       "         4         0.039071  0.0  0.028683 ...   0.000000  0.0  0.0  0.000000   \n",
       "\n",
       "                        978       979       980       981       982  983  \n",
       "book_num chap_num                                                         \n",
       "1        0         0.098101  0.000000  0.000000  0.047139  0.025306  0.0  \n",
       "         1         0.047653  0.020395  0.000000  0.051520  0.036877  0.0  \n",
       "         2         0.018912  0.064753  0.030207  0.054525  0.043907  0.0  \n",
       "         3         0.025479  0.010905  0.000000  0.009182  0.039435  0.0  \n",
       "         4         0.024841  0.042525  0.000000  0.035808  0.019223  0.0  \n",
       "\n",
       "[5 rows x 984 columns]"
      ]
     },
     "execution_count": 20,
     "metadata": {},
     "output_type": "execute_result"
    }
   ],
   "source": [
    "tfidf_small.head()"
   ]
  },
  {
   "cell_type": "markdown",
   "metadata": {},
   "source": [
    "## Add corresponding term_id for features in tfidf_small"
   ]
  },
  {
   "cell_type": "code",
   "execution_count": 21,
   "metadata": {},
   "outputs": [],
   "source": [
    "features = vectorizer.get_feature_names()"
   ]
  },
  {
   "cell_type": "code",
   "execution_count": 23,
   "metadata": {},
   "outputs": [],
   "source": [
    "# change to df \n",
    "features_df = pd.DataFrame({'term_str':features})"
   ]
  },
  {
   "cell_type": "code",
   "execution_count": 24,
   "metadata": {},
   "outputs": [],
   "source": [
    "tokens_sub = tokens.reset_index()[['term_str','term_id']]"
   ]
  },
  {
   "cell_type": "code",
   "execution_count": 25,
   "metadata": {},
   "outputs": [],
   "source": [
    "# drop duplicated terms in df\n",
    "tokens_sub.drop_duplicates(\"term_str\",inplace=True)"
   ]
  },
  {
   "cell_type": "code",
   "execution_count": 27,
   "metadata": {},
   "outputs": [
    {
     "data": {
      "text/plain": [
       "(985, 2)"
      ]
     },
     "execution_count": 27,
     "metadata": {},
     "output_type": "execute_result"
    }
   ],
   "source": [
    "tokens_sub.shape"
   ]
  },
  {
   "cell_type": "code",
   "execution_count": 28,
   "metadata": {},
   "outputs": [],
   "source": [
    "# join the two df on 'term_str' so that we can get the corresponding term_id for each term\n",
    "new_df = features_df.merge(tokens_sub,how=\"left\",on='term_str')"
   ]
  },
  {
   "cell_type": "code",
   "execution_count": 29,
   "metadata": {},
   "outputs": [
    {
     "data": {
      "text/html": [
       "<div>\n",
       "<style scoped>\n",
       "    .dataframe tbody tr th:only-of-type {\n",
       "        vertical-align: middle;\n",
       "    }\n",
       "\n",
       "    .dataframe tbody tr th {\n",
       "        vertical-align: top;\n",
       "    }\n",
       "\n",
       "    .dataframe thead th {\n",
       "        text-align: right;\n",
       "    }\n",
       "</style>\n",
       "<table border=\"1\" class=\"dataframe\">\n",
       "  <thead>\n",
       "    <tr style=\"text-align: right;\">\n",
       "      <th></th>\n",
       "      <th>term_str</th>\n",
       "      <th>term_id</th>\n",
       "    </tr>\n",
       "  </thead>\n",
       "  <tbody>\n",
       "    <tr>\n",
       "      <th>0</th>\n",
       "      <td>able</td>\n",
       "      <td>95</td>\n",
       "    </tr>\n",
       "    <tr>\n",
       "      <th>1</th>\n",
       "      <td>absence</td>\n",
       "      <td>150</td>\n",
       "    </tr>\n",
       "    <tr>\n",
       "      <th>2</th>\n",
       "      <td>absolutely</td>\n",
       "      <td>162</td>\n",
       "    </tr>\n",
       "    <tr>\n",
       "      <th>3</th>\n",
       "      <td>account</td>\n",
       "      <td>296</td>\n",
       "    </tr>\n",
       "    <tr>\n",
       "      <th>4</th>\n",
       "      <td>acquaintance</td>\n",
       "      <td>382</td>\n",
       "    </tr>\n",
       "  </tbody>\n",
       "</table>\n",
       "</div>"
      ],
      "text/plain": [
       "       term_str  term_id\n",
       "0          able       95\n",
       "1       absence      150\n",
       "2    absolutely      162\n",
       "3       account      296\n",
       "4  acquaintance      382"
      ]
     },
     "execution_count": 29,
     "metadata": {},
     "output_type": "execute_result"
    }
   ],
   "source": [
    "new_df.head()"
   ]
  },
  {
   "cell_type": "code",
   "execution_count": 30,
   "metadata": {},
   "outputs": [],
   "source": [
    "# rename the columns in tfidf_small using terms_id\n",
    "tfidf_small.columns = new_df['term_id']"
   ]
  },
  {
   "cell_type": "code",
   "execution_count": 31,
   "metadata": {},
   "outputs": [
    {
     "data": {
      "text/html": [
       "<div>\n",
       "<style scoped>\n",
       "    .dataframe tbody tr th:only-of-type {\n",
       "        vertical-align: middle;\n",
       "    }\n",
       "\n",
       "    .dataframe tbody tr th {\n",
       "        vertical-align: top;\n",
       "    }\n",
       "\n",
       "    .dataframe thead th {\n",
       "        text-align: right;\n",
       "    }\n",
       "</style>\n",
       "<table border=\"1\" class=\"dataframe\">\n",
       "  <thead>\n",
       "    <tr style=\"text-align: right;\">\n",
       "      <th></th>\n",
       "      <th>term_id</th>\n",
       "      <th>95</th>\n",
       "      <th>150</th>\n",
       "      <th>162</th>\n",
       "      <th>296</th>\n",
       "      <th>382</th>\n",
       "      <th>415</th>\n",
       "      <th>417</th>\n",
       "      <th>420</th>\n",
       "      <th>447</th>\n",
       "      <th>461</th>\n",
       "      <th>...</th>\n",
       "      <th>44700</th>\n",
       "      <th>44804</th>\n",
       "      <th>44819</th>\n",
       "      <th>44825</th>\n",
       "      <th>44833</th>\n",
       "      <th>44857</th>\n",
       "      <th>44860</th>\n",
       "      <th>44864</th>\n",
       "      <th>44911</th>\n",
       "      <th>44929</th>\n",
       "    </tr>\n",
       "    <tr>\n",
       "      <th>book_num</th>\n",
       "      <th>chap_num</th>\n",
       "      <th></th>\n",
       "      <th></th>\n",
       "      <th></th>\n",
       "      <th></th>\n",
       "      <th></th>\n",
       "      <th></th>\n",
       "      <th></th>\n",
       "      <th></th>\n",
       "      <th></th>\n",
       "      <th></th>\n",
       "      <th></th>\n",
       "      <th></th>\n",
       "      <th></th>\n",
       "      <th></th>\n",
       "      <th></th>\n",
       "      <th></th>\n",
       "      <th></th>\n",
       "      <th></th>\n",
       "      <th></th>\n",
       "      <th></th>\n",
       "      <th></th>\n",
       "    </tr>\n",
       "  </thead>\n",
       "  <tbody>\n",
       "    <tr>\n",
       "      <th rowspan=\"5\" valign=\"top\">1</th>\n",
       "      <th>0</th>\n",
       "      <td>0.000000</td>\n",
       "      <td>0.0</td>\n",
       "      <td>0.0</td>\n",
       "      <td>0.037412</td>\n",
       "      <td>0.0</td>\n",
       "      <td>0.000000</td>\n",
       "      <td>0.046796</td>\n",
       "      <td>0.000000</td>\n",
       "      <td>0.0</td>\n",
       "      <td>0.000000</td>\n",
       "      <td>...</td>\n",
       "      <td>0.000000</td>\n",
       "      <td>0.0</td>\n",
       "      <td>0.0</td>\n",
       "      <td>0.000000</td>\n",
       "      <td>0.098101</td>\n",
       "      <td>0.000000</td>\n",
       "      <td>0.000000</td>\n",
       "      <td>0.047139</td>\n",
       "      <td>0.025306</td>\n",
       "      <td>0.0</td>\n",
       "    </tr>\n",
       "    <tr>\n",
       "      <th>1</th>\n",
       "      <td>0.000000</td>\n",
       "      <td>0.0</td>\n",
       "      <td>0.0</td>\n",
       "      <td>0.027259</td>\n",
       "      <td>0.0</td>\n",
       "      <td>0.034097</td>\n",
       "      <td>0.000000</td>\n",
       "      <td>0.000000</td>\n",
       "      <td>0.0</td>\n",
       "      <td>0.027512</td>\n",
       "      <td>...</td>\n",
       "      <td>0.000000</td>\n",
       "      <td>0.0</td>\n",
       "      <td>0.0</td>\n",
       "      <td>0.000000</td>\n",
       "      <td>0.047653</td>\n",
       "      <td>0.020395</td>\n",
       "      <td>0.000000</td>\n",
       "      <td>0.051520</td>\n",
       "      <td>0.036877</td>\n",
       "      <td>0.0</td>\n",
       "    </tr>\n",
       "    <tr>\n",
       "      <th>2</th>\n",
       "      <td>0.019922</td>\n",
       "      <td>0.0</td>\n",
       "      <td>0.0</td>\n",
       "      <td>0.000000</td>\n",
       "      <td>0.0</td>\n",
       "      <td>0.000000</td>\n",
       "      <td>0.000000</td>\n",
       "      <td>0.000000</td>\n",
       "      <td>0.0</td>\n",
       "      <td>0.043675</td>\n",
       "      <td>...</td>\n",
       "      <td>0.000000</td>\n",
       "      <td>0.0</td>\n",
       "      <td>0.0</td>\n",
       "      <td>0.022621</td>\n",
       "      <td>0.018912</td>\n",
       "      <td>0.064753</td>\n",
       "      <td>0.030207</td>\n",
       "      <td>0.054525</td>\n",
       "      <td>0.043907</td>\n",
       "      <td>0.0</td>\n",
       "    </tr>\n",
       "    <tr>\n",
       "      <th>3</th>\n",
       "      <td>0.000000</td>\n",
       "      <td>0.0</td>\n",
       "      <td>0.0</td>\n",
       "      <td>0.014575</td>\n",
       "      <td>0.0</td>\n",
       "      <td>0.036462</td>\n",
       "      <td>0.000000</td>\n",
       "      <td>0.020038</td>\n",
       "      <td>0.0</td>\n",
       "      <td>0.000000</td>\n",
       "      <td>...</td>\n",
       "      <td>0.019656</td>\n",
       "      <td>0.0</td>\n",
       "      <td>0.0</td>\n",
       "      <td>0.000000</td>\n",
       "      <td>0.025479</td>\n",
       "      <td>0.010905</td>\n",
       "      <td>0.000000</td>\n",
       "      <td>0.009182</td>\n",
       "      <td>0.039435</td>\n",
       "      <td>0.0</td>\n",
       "    </tr>\n",
       "    <tr>\n",
       "      <th>4</th>\n",
       "      <td>0.000000</td>\n",
       "      <td>0.0</td>\n",
       "      <td>0.0</td>\n",
       "      <td>0.000000</td>\n",
       "      <td>0.0</td>\n",
       "      <td>0.000000</td>\n",
       "      <td>0.000000</td>\n",
       "      <td>0.039071</td>\n",
       "      <td>0.0</td>\n",
       "      <td>0.028683</td>\n",
       "      <td>...</td>\n",
       "      <td>0.000000</td>\n",
       "      <td>0.0</td>\n",
       "      <td>0.0</td>\n",
       "      <td>0.000000</td>\n",
       "      <td>0.024841</td>\n",
       "      <td>0.042525</td>\n",
       "      <td>0.000000</td>\n",
       "      <td>0.035808</td>\n",
       "      <td>0.019223</td>\n",
       "      <td>0.0</td>\n",
       "    </tr>\n",
       "  </tbody>\n",
       "</table>\n",
       "<p>5 rows × 984 columns</p>\n",
       "</div>"
      ],
      "text/plain": [
       "term_id               95     150    162       296    382       415    \\\n",
       "book_num chap_num                                                      \n",
       "1        0         0.000000    0.0    0.0  0.037412    0.0  0.000000   \n",
       "         1         0.000000    0.0    0.0  0.027259    0.0  0.034097   \n",
       "         2         0.019922    0.0    0.0  0.000000    0.0  0.000000   \n",
       "         3         0.000000    0.0    0.0  0.014575    0.0  0.036462   \n",
       "         4         0.000000    0.0    0.0  0.000000    0.0  0.000000   \n",
       "\n",
       "term_id               417       420    447       461    ...       44700  \\\n",
       "book_num chap_num                                       ...               \n",
       "1        0         0.046796  0.000000    0.0  0.000000  ...    0.000000   \n",
       "         1         0.000000  0.000000    0.0  0.027512  ...    0.000000   \n",
       "         2         0.000000  0.000000    0.0  0.043675  ...    0.000000   \n",
       "         3         0.000000  0.020038    0.0  0.000000  ...    0.019656   \n",
       "         4         0.000000  0.039071    0.0  0.028683  ...    0.000000   \n",
       "\n",
       "term_id            44804  44819     44825     44833     44857     44860  \\\n",
       "book_num chap_num                                                         \n",
       "1        0           0.0    0.0  0.000000  0.098101  0.000000  0.000000   \n",
       "         1           0.0    0.0  0.000000  0.047653  0.020395  0.000000   \n",
       "         2           0.0    0.0  0.022621  0.018912  0.064753  0.030207   \n",
       "         3           0.0    0.0  0.000000  0.025479  0.010905  0.000000   \n",
       "         4           0.0    0.0  0.000000  0.024841  0.042525  0.000000   \n",
       "\n",
       "term_id               44864     44911  44929  \n",
       "book_num chap_num                             \n",
       "1        0         0.047139  0.025306    0.0  \n",
       "         1         0.051520  0.036877    0.0  \n",
       "         2         0.054525  0.043907    0.0  \n",
       "         3         0.009182  0.039435    0.0  \n",
       "         4         0.035808  0.019223    0.0  \n",
       "\n",
       "[5 rows x 984 columns]"
      ]
     },
     "execution_count": 31,
     "metadata": {},
     "output_type": "execute_result"
    }
   ],
   "source": [
    "tfidf_small.head()"
   ]
  },
  {
   "cell_type": "code",
   "execution_count": 34,
   "metadata": {},
   "outputs": [
    {
     "data": {
      "text/plain": [
       "(1593, 984)"
      ]
     },
     "execution_count": 34,
     "metadata": {},
     "output_type": "execute_result"
    }
   ],
   "source": [
    "tfidf_small.shape"
   ]
  },
  {
   "cell_type": "markdown",
   "metadata": {},
   "source": [
    "## Save data"
   ]
  },
  {
   "cell_type": "code",
   "execution_count": 35,
   "metadata": {},
   "outputs": [],
   "source": [
    " with sqlite3.connect(corpus_db) as db:    \n",
    "    tfidf_small.to_sql('tfidf_small', db, if_exists='replace', index=True)"
   ]
  },
  {
   "cell_type": "code",
   "execution_count": null,
   "metadata": {},
   "outputs": [],
   "source": [
    "# END"
   ]
  }
 ],
 "metadata": {
  "kernelspec": {
   "display_name": "Python 3",
   "language": "python",
   "name": "python3"
  },
  "language_info": {
   "codemirror_mode": {
    "name": "ipython",
    "version": 3
   },
   "file_extension": ".py",
   "mimetype": "text/x-python",
   "name": "python",
   "nbconvert_exporter": "python",
   "pygments_lexer": "ipython3",
   "version": "3.6.6"
  }
 },
 "nbformat": 4,
 "nbformat_minor": 2
}
